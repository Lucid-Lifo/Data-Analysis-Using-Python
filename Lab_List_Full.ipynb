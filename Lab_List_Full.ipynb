{
  "cells": [
    {
      "cell_type": "markdown",
      "metadata": {
        "id": "view-in-github",
        "colab_type": "text"
      },
      "source": [
        "<a href=\"https://colab.research.google.com/github/Lucid-Lifo/Data-Analysis-Using-Python/blob/main/Lab_List_Full.ipynb\" target=\"_parent\"><img src=\"https://colab.research.google.com/assets/colab-badge.svg\" alt=\"Open In Colab\"/></a>"
      ]
    },
    {
      "cell_type": "markdown",
      "source": [
        "I am unable to create and attach a `.docx` file directly. However, I have formatted all the requested content for you below. You can easily copy and paste this text into a Microsoft Word document (or any other word processor) and save it as a `.docx` file.\n",
        "\n",
        "-----\n",
        "\n",
        "### **Program No: 1**\n",
        "\n",
        "[cite\\_start]**Program Title:** Write a Python program to swap two variables using a temporary variable[cite: 9].\n",
        "**Program:**"
      ],
      "metadata": {
        "id": "Vmw9Xt5ai1Fr"
      }
    },
    {
      "cell_type": "code",
      "source": [
        "a = 10\n",
        "b = 20\n",
        "print(f\"Before swapping: a={a} b={b}\")\n",
        "temp = a\n",
        "a = b\n",
        "b = temp\n",
        "print(f\"After swapping: a={a}, b={b}\")"
      ],
      "outputs": [],
      "execution_count": null,
      "metadata": {
        "id": "sIYx0Ef9i1Ft"
      }
    },
    {
      "cell_type": "markdown",
      "source": [
        "[cite\\_start][cite: 11, 12, 13, 14, 15, 16, 18]\n",
        "\n",
        "-----\n",
        "\n",
        "### **Program No: 2**\n",
        "\n",
        "[cite\\_start]**Program Title:** Write a program that takes a user input string and returns the number of vowels in it[cite: 34].\n",
        "**Program:**"
      ],
      "metadata": {
        "id": "3xg2Sv6ti1Fu"
      }
    },
    {
      "cell_type": "code",
      "source": [
        "text = input(\"Enter a string: \")\n",
        "vowels = \"aeiouAEIOU\"\n",
        "count = 0\n",
        "for char in text:\n",
        "    if char in vowels:\n",
        "        count += 1\n",
        "print(f\"Number of vowels: {count}\")"
      ],
      "outputs": [],
      "execution_count": null,
      "metadata": {
        "id": "mrhwcHK8i1Fu"
      }
    },
    {
      "cell_type": "markdown",
      "source": [
        "[cite\\_start][cite: 36, 37, 38, 39, 40, 41, 43]\n",
        "\n",
        "-----\n",
        "\n",
        "### **Program No: 3**\n",
        "\n",
        "[cite\\_start]**Program Title:** Write a program to reverse a string without using built-in functions[cite: 59].\n",
        "**Program:**"
      ],
      "metadata": {
        "id": "rGyyfGrii1Fu"
      }
    },
    {
      "cell_type": "code",
      "source": [
        "text = input(\"Enter a string: \")\n",
        "reversed_text = text[::-1]\n",
        "print(f\"Reversed string: {reversed_text}\")"
      ],
      "outputs": [],
      "execution_count": null,
      "metadata": {
        "id": "5ddEtrHNi1Fu"
      }
    },
    {
      "cell_type": "markdown",
      "source": [
        "[cite\\_start][cite: 61, 62, 63, 64]\n",
        "\n",
        "-----\n",
        "\n",
        "### **Program No: 4**\n",
        "\n",
        "[cite\\_start]**Program Title:** Concatenate two strings using variables and print the result[cite: 80].\n",
        "**Program:**"
      ],
      "metadata": {
        "id": "okDUMzHYi1Fu"
      }
    },
    {
      "cell_type": "code",
      "source": [
        "str1 = \"Hello\"\n",
        "str2 = \"World\"\n",
        "result = str1 + \" \" + str2\n",
        "print(f\"Concatenated string: {result}\")"
      ],
      "outputs": [],
      "execution_count": null,
      "metadata": {
        "id": "3LOPoS21i1Fv"
      }
    },
    {
      "cell_type": "markdown",
      "source": [
        "[cite\\_start][cite: 82, 83, 84, 85]\n",
        "\n",
        "-----\n",
        "\n",
        "### **Program No: 5**\n",
        "\n",
        "[cite\\_start]**Program Title:** Write a program that checks whether a substring exists in a given string[cite: 100].\n",
        "**Program:**"
      ],
      "metadata": {
        "id": "5iSxQae_i1Fv"
      }
    },
    {
      "cell_type": "code",
      "source": [
        "main_string = input(\"Enter main string: \")\n",
        "substring = input(\"Enter substring to search: \")\n",
        "if substring in main_string:\n",
        "    print(f\"'{substring}' exists in '{main_string}'\")\n",
        "else:\n",
        "    print(f\"'{substring}' does not exist in '{main_string}'\")"
      ],
      "outputs": [],
      "execution_count": null,
      "metadata": {
        "id": "0qVo_3xji1Fv"
      }
    },
    {
      "cell_type": "markdown",
      "source": [
        "[cite\\_start][cite: 102, 103, 104, 105, 106, 107]\n",
        "\n",
        "-----\n",
        "\n",
        "### **Program No: 6**\n",
        "\n",
        "[cite\\_start]**Program Title:** Write a program to find the maximum and minimum elements in a list[cite: 124].\n",
        "**Program:**"
      ],
      "metadata": {
        "id": "BxTwEcPXi1Fv"
      }
    },
    {
      "cell_type": "code",
      "source": [
        "numbers = [5, 3, 8, 1, 9, 2, 7]\n",
        "maximum = numbers[0]\n",
        "minimum = numbers[0]\n",
        "for num in numbers:\n",
        "    if num > maximum:\n",
        "        maximum = num\n",
        "    if num < minimum:\n",
        "        minimum = num\n",
        "print(f\"List: {numbers}\")\n",
        "print(f\"Maximum: {maximum}, Minimum: {minimum}\")"
      ],
      "outputs": [],
      "execution_count": null,
      "metadata": {
        "id": "nOxH-pwJi1Fv"
      }
    },
    {
      "cell_type": "markdown",
      "source": [
        "[cite\\_start][cite: 126, 127, 128, 129, 130, 131, 132, 133, 134, 136]\n",
        "\n",
        "-----\n",
        "\n",
        "### **Program No: 7**\n",
        "\n",
        "[cite\\_start]**Program Title:** Write a program to remove duplicates from a list[cite: 153].\n",
        "**Program:**"
      ],
      "metadata": {
        "id": "ZlUhcOmXi1Fv"
      }
    },
    {
      "cell_type": "code",
      "source": [
        "original_list = [1, 2, 2, 3, 4, 4, 5, 6, 6, 7]\n",
        "unique_list = []\n",
        "for item in original_list:\n",
        "    if item not in unique_list:\n",
        "        unique_list.append(item)\n",
        "print(f\"Original list: {original_list}\")\n",
        "print(f\"List without duplicates: {unique_list}\")"
      ],
      "outputs": [],
      "execution_count": null,
      "metadata": {
        "id": "-lXOO6s4i1Fw"
      }
    },
    {
      "cell_type": "markdown",
      "source": [
        "[cite\\_start][cite: 155, 156, 157, 158, 159, 160, 161]\n",
        "\n",
        "-----\n",
        "\n",
        "### **Program No: 8**\n",
        "\n",
        "**Program Title:** Create a tuple of 5 numbers. [cite\\_start]Print the sum and average of the numbers[cite: 177].\n",
        "**Program:**"
      ],
      "metadata": {
        "id": "K3vhiWJui1Fw"
      }
    },
    {
      "cell_type": "code",
      "source": [
        "numbers = (10, 20, 30, 40, 50)\n",
        "total_sum = sum(numbers)\n",
        "average = total_sum / len(numbers)\n",
        "print(f\"Tuple: {numbers}\")\n",
        "print(f\"Sum: {total_sum}\")\n",
        "print(f\"Average: {average}\")"
      ],
      "outputs": [],
      "execution_count": null,
      "metadata": {
        "id": "MGRHU_iJi1Fw"
      }
    },
    {
      "cell_type": "markdown",
      "source": [
        "[cite\\_start][cite: 179, 180, 181, 182, 183, 184]\n",
        "\n",
        "-----\n",
        "\n",
        "### **Program No: 9**\n",
        "\n",
        "[cite\\_start]**Program Title:** Write a program to find the second largest number in a list[cite: 201].\n",
        "**Program:**"
      ],
      "metadata": {
        "id": "39ra8m94i1Fw"
      }
    },
    {
      "cell_type": "code",
      "source": [
        "numbers = [5, 3, 8, 1, 9, 2, 7]\n",
        "numbers_sorted = sorted((numbers), reverse=True)\n",
        "if len(numbers_sorted) >= 2:\n",
        "    second_largest = numbers_sorted[1]\n",
        "    print(f\"List: {numbers}\")\n",
        "    print(f\"Second largest: {second_largest}\")\n",
        "else:\n",
        "    print(\"List doesn't have enough unique elements\")"
      ],
      "outputs": [],
      "execution_count": null,
      "metadata": {
        "id": "kjPb9N5wi1Fw"
      }
    },
    {
      "cell_type": "markdown",
      "source": [
        "[cite\\_start][cite: 203, 204, 205, 206, 207, 208, 209, 211]\n",
        "\n",
        "-----\n",
        "\n",
        "### **Program No: 10**\n",
        "\n",
        "[cite\\_start]**Program Title:** Write a Python function to count how many times an element appears in a list[cite: 227].\n",
        "**Program:**"
      ],
      "metadata": {
        "id": "2aQhQ8xbi1Fw"
      }
    },
    {
      "cell_type": "code",
      "source": [
        "def count_occurrences(lst, element):\n",
        "    count = 0\n",
        "    for item in lst:\n",
        "        if item == element:\n",
        "            count += 1\n",
        "    return count\n",
        "\n",
        "numbers = [1, 2, 3, 4, 2, 2, 5, 1]\n",
        "print(numbers)\n",
        "print(f\"the number 2 appear\", count_occurrences(numbers, 2), \"times\")\n",
        "print(f\"the number 1 appear\", count_occurrences(numbers, 1), \"times\")\n",
        "print(f\"the number 6 appear\", count_occurrences(numbers, 6), \"times\")"
      ],
      "outputs": [],
      "execution_count": null,
      "metadata": {
        "id": "U56fhCETi1Fw"
      }
    },
    {
      "cell_type": "markdown",
      "source": [
        "[cite\\_start][cite: 229, 230, 231, 232, 233, 234, 236, 237, 240, 241, 242]\n",
        "\n",
        "-----\n",
        "\n",
        "### **Program No: 11**\n",
        "\n",
        "[cite\\_start]**Program Title:** Write a program to find the union and intersection of two sets[cite: 258].\n",
        "**Program:**"
      ],
      "metadata": {
        "id": "WbaKV8pvi1Fw"
      }
    },
    {
      "cell_type": "code",
      "source": [
        "set1 = {1, 2, 3, 4, 5}\n",
        "set2 = {4, 5, 6, 7, 8}\n",
        "union = set1 | set2\n",
        "intersection = set1 & set2\n",
        "print(f\"Set 1: {set1}\")\n",
        "print(f\"Set 2: {set2}\")\n",
        "print(f\"Union: {union}\")\n",
        "print(f\"Intersection: {intersection}\")"
      ],
      "outputs": [],
      "execution_count": null,
      "metadata": {
        "id": "cFa2pWhGi1Fx"
      }
    },
    {
      "cell_type": "markdown",
      "source": [
        "[cite\\_start][cite: 260, 261, 262, 263, 264, 265, 267, 268]\n",
        "\n",
        "-----\n",
        "\n",
        "### **Program No: 12**\n",
        "\n",
        "[cite\\_start]**Program Title:** Create a dictionary with 5 key-value pairs and print all keys and values[cite: 290].\n",
        "**Program:**"
      ],
      "metadata": {
        "id": "hJZQEoz-i1Fx"
      }
    },
    {
      "cell_type": "code",
      "source": [
        "student_grades = {\n",
        "    \"Alice\": 85,\n",
        "    \"Bob\": 90,\n",
        "    \"Charlie\": 78,\n",
        "    \"Diana\": 92,\n",
        "    \"Eve\": 88\n",
        "}\n",
        "print(\"Keys:\", list(student_grades.keys()))\n",
        "print(\"Values:\", list(student_grades.values()))"
      ],
      "outputs": [],
      "execution_count": null,
      "metadata": {
        "id": "n_llLNHDi1Fx"
      }
    },
    {
      "cell_type": "markdown",
      "source": [
        "[cite\\_start][cite: 293, 294, 295, 296, 297, 298, 300, 301]\n",
        "\n",
        "-----\n",
        "\n",
        "### **Program No: 13**\n",
        "\n",
        "[cite\\_start]**Program Title:** Write a program to count the frequency of characters in a string using a dictionary[cite: 315, 316].\n",
        "**Program:**"
      ],
      "metadata": {
        "id": "fXKaauPmi1Fx"
      }
    },
    {
      "cell_type": "code",
      "source": [
        "text = input(\"Enter a string: \")\n",
        "freq_dict = {}\n",
        "for char in text:\n",
        "    if char in freq_dict:\n",
        "        freq_dict[char] += 1\n",
        "    else:\n",
        "        freq_dict[char] = 1\n",
        "print(\"Character frequencies:\")\n",
        "for char, freq in freq_dict.items():\n",
        "    print(f\"'{char}': {freq}\")"
      ],
      "outputs": [],
      "execution_count": null,
      "metadata": {
        "id": "dEjO4ox7i1Fx"
      }
    },
    {
      "cell_type": "markdown",
      "source": [
        "[cite\\_start][cite: 318, 319, 320, 321, 322, 323, 325, 326, 327, 328]\n",
        "\n",
        "-----\n",
        "\n",
        "### **Program No: 14**\n",
        "\n",
        "[cite\\_start]**Program Title:** Write a program to print all prime numbers between 1 and 50[cite: 355].\n",
        "**Program:**"
      ],
      "metadata": {
        "id": "giylz-ARi1Fx"
      }
    },
    {
      "cell_type": "code",
      "source": [
        "for n in range(2, 51):\n",
        "    flag = False\n",
        "    for i in range(2, int(n**0.5) + 1):\n",
        "        if n % i == 0:\n",
        "            flag = True\n",
        "            break\n",
        "    if flag == False:\n",
        "        print(n, end=\" \")"
      ],
      "outputs": [],
      "execution_count": null,
      "metadata": {
        "id": "sRj0wFjKi1Fx"
      }
    },
    {
      "cell_type": "markdown",
      "source": [
        "[cite\\_start][cite: 362, 363, 364, 365, 366, 367, 368]\n",
        "\n",
        "-----\n",
        "\n",
        "### **Program No: 15**\n",
        "\n",
        "[cite\\_start]**Program Title:** Write a program to take user input and generate the multiplication table of the given number using a for loop[cite: 393].\n",
        "**Program:**"
      ],
      "metadata": {
        "id": "p63-ZOrqi1Fx"
      }
    },
    {
      "cell_type": "code",
      "source": [
        "num = int(input(\"Enter a number: \"))\n",
        "print(f\"Multiplication table of {num}:\")\n",
        "for i in range(1, 11):\n",
        "    result = num * i\n",
        "    print(f\"{num} x {i} = {result}\")"
      ],
      "outputs": [],
      "execution_count": null,
      "metadata": {
        "id": "xssvabdui1Fx"
      }
    },
    {
      "cell_type": "markdown",
      "source": [
        "[cite\\_start][cite: 395, 396, 397, 398, 400]\n",
        "\n",
        "-----\n",
        "\n",
        "### **Program No: 16**\n",
        "\n",
        "[cite\\_start]**Program Title:** Write a program to print Fibonacci series up to n terms[cite: 424].\n",
        "**Program:**"
      ],
      "metadata": {
        "id": "Qb27h9A8i1Fx"
      }
    },
    {
      "cell_type": "code",
      "source": [
        "n = int(input(\"Enter the number of terms: \"))\n",
        "a, b = 0, 1\n",
        "if n <= 0:\n",
        "    print(\"Please enter a positive integer.\")\n",
        "elif n == 1:\n",
        "    print(a)\n",
        "else:\n",
        "    print(a, b, end=\" \")\n",
        "    for i in range(2, n):\n",
        "        c = a + b\n",
        "        print(c, end=\" \")\n",
        "        a, b = b, c"
      ],
      "outputs": [],
      "execution_count": null,
      "metadata": {
        "id": "nZFkTXtKi1Fy"
      }
    },
    {
      "cell_type": "markdown",
      "source": [
        "[cite\\_start][cite: 427, 428, 429, 430, 431, 432, 433, 434, 436, 437, 438, 439, 440]\n",
        "\n",
        "-----\n",
        "\n",
        "### **Program No: 17**\n",
        "\n",
        "[cite\\_start]**Program Title:** Create a Calculator class with methods add, subtract, multiply, divide[cite: 454].\n",
        "**Program:**"
      ],
      "metadata": {
        "id": "pS-LrC7Yi1Fy"
      }
    },
    {
      "cell_type": "code",
      "source": [
        "class Calculator:\n",
        "    def add(self, x, y):\n",
        "        return x + y\n",
        "    def subtract(self, x, y):\n",
        "        return x - y\n",
        "    def multiply(self, x, y):\n",
        "        return x * y\n",
        "    def divide(self, x, y):\n",
        "        if y == 0:\n",
        "            return \"Error: Division by zero\"\n",
        "        return x / y\n",
        "\n",
        "calc = Calculator()\n",
        "print(f\"3 + 5 = {calc.add(3, 5)}\")\n",
        "print(f\"10 - 4 = {calc.subtract(10, 4)}\")\n",
        "print(f\"6 * 7 = {calc.multiply(6, 7)}\")\n",
        "print(f\"20 / 5 = {calc.divide(20, 5)}\")\n",
        "print(f\"10 / 0 = {calc.divide(10, 0)}\")"
      ],
      "outputs": [],
      "execution_count": null,
      "metadata": {
        "id": "KQHXMMV2i1Fy"
      }
    },
    {
      "cell_type": "markdown",
      "source": [
        "[cite\\_start][cite: 456, 457, 458, 459, 460, 461, 462, 464, 465, 469, 470, 471, 472, 473, 474, 475, 476]\n",
        "\n",
        "-----\n",
        "\n",
        "### **Program No: 18**\n",
        "\n",
        "[cite\\_start]**Program Title:** Implement a Vehicle Car ElectricCar hierarchy and demonstrate multilevel inheritance[cite: 496, 499].\n",
        "**Program:**"
      ],
      "metadata": {
        "id": "pfWiw67ti1Fy"
      }
    },
    {
      "cell_type": "code",
      "source": [
        "class Vehicle:\n",
        "    def __init__(self, brand):\n",
        "        self.brand = brand\n",
        "    def display_info(self):\n",
        "        print(f\"Brand: {self.brand}\")\n",
        "\n",
        "class Car(Vehicle):\n",
        "    def __init__(self, brand, model):\n",
        "        super().__init__(brand)\n",
        "        self.model = model\n",
        "    def display_info(self):\n",
        "        super().display_info()\n",
        "        print(f\"Model: {self.model}\")\n",
        "\n",
        "class ElectricCar(Car):\n",
        "    def __init__(self, brand, model, battery_range):\n",
        "        super().__init__(brand, model)\n",
        "        self.battery_range = battery_range\n",
        "    def display_info(self):\n",
        "        super().display_info()\n",
        "        print(f\"Battery Range: {self.battery_range} miles\")\n",
        "\n",
        "# Demonstrate multilevel inheritance\n",
        "my_electric_car = ElectricCar(\"Tesla\", \"Model 3\", 350)\n",
        "my_electric_car.display_info()"
      ],
      "outputs": [],
      "execution_count": null,
      "metadata": {
        "id": "FNgHFSYTi1Fy"
      }
    },
    {
      "cell_type": "markdown",
      "source": [
        "[cite\\_start][cite: 501, 502, 503, 504, 505, 506, 507, 508, 509, 510, 511, 515, 516, 517, 518, 519, 523, 524, 525, 526, 527, 528]\n",
        "\n",
        "-----\n",
        "\n",
        "### **Program No: 19**\n",
        "\n",
        "**Program Title:** Create a Shape base class with a method area(). [cite\\_start]Derive Rectangle and Circle classes overriding area()[cite: 546].\n",
        "**Program:**"
      ],
      "metadata": {
        "id": "4rbTBMJ_i1Fy"
      }
    },
    {
      "cell_type": "code",
      "source": [
        "import math\n",
        "\n",
        "class Shape:\n",
        "    def area(self):\n",
        "        \"\"\"Calculates the area of the shape.\"\"\"\n",
        "        return 0\n",
        "\n",
        "class Rectangle(Shape):\n",
        "    def __init__(self, width, height):\n",
        "        self.width = width\n",
        "        self.height = height\n",
        "    def area(self):\n",
        "        \"\"\"Calculates the area of the rectangle.\"\"\"\n",
        "        return self.width * self.height\n",
        "\n",
        "class Circle(Shape):\n",
        "    def __init__(self, radius):\n",
        "        self.radius = radius\n",
        "    def area(self):\n",
        "        \"\"\"Calculates the area of the circle.\"\"\"\n",
        "        return math.pi * self.radius**2\n",
        "\n",
        "rectangle = Rectangle(5, 10)\n",
        "circle = Circle(7)\n",
        "print(f\"Area of Rectangle: {rectangle.area()}\")\n",
        "print(f\"Area of Circle: {circle.area()}\")"
      ],
      "outputs": [],
      "execution_count": null,
      "metadata": {
        "id": "4uKitQ-Xi1Fy"
      }
    },
    {
      "cell_type": "markdown",
      "source": [
        "[cite\\_start][cite: 548, 549, 550, 551, 552, 554, 555, 556, 557, 558, 563, 564, 565, 566, 567, 568, 572, 573, 574, 575, 576, 577]\n",
        "\n",
        "-----\n",
        "\n",
        "### **Program No: 20**\n",
        "\n",
        "[cite\\_start]**Program Title:** Write a program to read a text file and count words, lines, and characters[cite: 594].\n",
        "**Program:**"
      ],
      "metadata": {
        "id": "242S30hDi1Fy"
      }
    },
    {
      "cell_type": "code",
      "source": [
        "with open(\"sample.txt\", \"w\") as f:\n",
        "    f.write(\"This is the first line.\\n\")\n",
        "    f.write(\"This is the second line with more words.\\n\")\n",
        "    f.write(\"Third line.\")\n",
        "\n",
        "def count_file_contents(filename):\n",
        "    try:\n",
        "        with open(filename, 'r') as f:\n",
        "            lines = f.readlines()\n",
        "            line_count = len(lines)\n",
        "            char_count = sum(len(line) for line in lines)\n",
        "            word_count = sum(len(line.split()) for line in lines)\n",
        "            return line_count, word_count, char_count\n",
        "    except FileNotFoundError:\n",
        "        return \"Error: File not found.\", None, None\n",
        "\n",
        "filename = \"sample.txt\"\n",
        "line_count, word_count, char_count = count_file_contents(filename)\n",
        "if isinstance(line_count, int):\n",
        "    print(f\"File: {filename}\")\n",
        "    print(f\"Number of lines: {line_count}\")\n",
        "    print(f\"Number of words: {word_count}\")\n",
        "    print(f\"Number of characters: {char_count}\")\n",
        "else:\n",
        "    print(line_count)"
      ],
      "outputs": [],
      "execution_count": null,
      "metadata": {
        "id": "7GKv-03Ai1F1"
      }
    },
    {
      "cell_type": "markdown",
      "source": [
        "[cite\\_start][cite: 596, 597, 598, 599, 601, 602, 604, 605, 606, 611, 613, 614, 615, 616, 620, 621, 622, 623, 624, 625, 626, 627, 628]\n",
        "\n",
        "-----\n",
        "\n",
        "### **Program No: 21**\n",
        "\n",
        "[cite\\_start]**Program Title:** Demonstrate use of read(), readline(), readlines(), write(), and writelines()[cite: 646].\n",
        "**Program:**"
      ],
      "metadata": {
        "id": "Yz1Tabzti1F1"
      }
    },
    {
      "cell_type": "code",
      "source": [
        "with open(\"write_demo.txt\", \"w\") as f:\n",
        "    f.write(\"This is the first line written with write().\\n\")\n",
        "    f.writelines([\"This is the second line written with writelines().\\n\", \"This is the third line also with writelines().\\n\"])\n",
        "\n",
        "with open(\"write_demo.txt\", \"r\") as f:\n",
        "    content = f.read()\n",
        "    print(\"Content using read():\")\n",
        "    print(content)\n",
        "\n",
        "# Demonstrate readline()\n",
        "with open(\"write_demo.txt\", \"r\") as f:\n",
        "    print(\"\\nContent using readline():\")\n",
        "    print(f.readline(), end=\"\")\n",
        "    print(f.readline(), end=\"\")\n",
        "\n",
        "# Demonstrate readlines()\n",
        "with open(\"write_demo.txt\", \"r\") as f:\n",
        "    print(\"\\nContent using readlines():\")\n",
        "    lines = f.readlines()\n",
        "    print(lines)"
      ],
      "outputs": [],
      "execution_count": null,
      "metadata": {
        "id": "BRIsbqwhi1F1"
      }
    },
    {
      "cell_type": "markdown",
      "source": [
        "[cite\\_start][cite: 648, 649, 650, 651, 652, 653, 654, 655, 656, 657, 658, 659, 664, 665, 666, 667, 671, 672]\n",
        "\n",
        "-----\n",
        "\n",
        "### **Program No: 22**\n",
        "\n",
        "[cite\\_start]**Program Title:** Print current date, time, and day of the week[cite: 697].\n",
        "**Program:**"
      ],
      "metadata": {
        "id": "BfNfemhri1F2"
      }
    },
    {
      "cell_type": "code",
      "source": [
        "from datetime import datetime\n",
        "now = datetime.now()\n",
        "print(f\"Current Date and Time: {now}\")\n",
        "print(f\"Current Date: {now.date()}\")\n",
        "print(f\"Current Time: {now.time()}\")\n",
        "print(f\"Day of the week: {now.strftime('%A')}\")"
      ],
      "outputs": [],
      "execution_count": null,
      "metadata": {
        "id": "2uH99Bcai1F2"
      }
    },
    {
      "cell_type": "markdown",
      "source": [
        "[cite\\_start][cite: 699, 700, 701, 702, 704, 705]\n",
        "\n",
        "-----\n",
        "\n",
        "### **Program No: 23**\n",
        "\n",
        "[cite\\_start]**Program Title:** Write a program to calculate age from a given date of birth[cite: 719].\n",
        "**Program:**"
      ],
      "metadata": {
        "id": "I5OIBeTRi1F2"
      }
    },
    {
      "cell_type": "code",
      "source": [
        "from datetime import date\n",
        "def calculate_age(birth_date):\n",
        "    today = date.today()\n",
        "    age = today.year - birth_date.year - ((today.month, today.day) < (birth_date.month, birth_date.day))\n",
        "    return age\n",
        "\n",
        "dob = date(1990, 5, 15)\n",
        "age = calculate_age(dob)\n",
        "print(f\"The age for date of birth {dob} is: {age}\")"
      ],
      "outputs": [],
      "execution_count": null,
      "metadata": {
        "id": "rjfwx4I0i1F2"
      }
    },
    {
      "cell_type": "markdown",
      "source": [
        "[cite\\_start][cite: 721, 722, 723, 724, 725, 727, 728, 730]\n",
        "\n",
        "-----\n",
        "\n",
        "### **Program No: 24**\n",
        "\n",
        "[cite\\_start]**Program Title:** Write a program to handle division by zero exception[cite: 745].\n",
        "**Program:**"
      ],
      "metadata": {
        "id": "DvTvchzvi1F2"
      }
    },
    {
      "cell_type": "code",
      "source": [
        "def safe_division(numerator, denominator):\n",
        "    try:\n",
        "        result = numerator / denominator\n",
        "        return result\n",
        "    except ZeroDivisionError:\n",
        "        return \"Error: Division by zero is not allowed.\"\n",
        "\n",
        "print(f\"10 / 2 = {safe_division(10, 2)}\")\n",
        "print(f\"5 / 0 = {safe_division(5, 0)}\")"
      ],
      "outputs": [],
      "execution_count": null,
      "metadata": {
        "id": "_YMfQBVoi1F2"
      }
    },
    {
      "cell_type": "markdown",
      "source": [
        "[cite\\_start][cite: 747, 748, 749, 750, 751, 752, 753]\n",
        "\n",
        "-----\n",
        "\n",
        "### **Program No: 25**\n",
        "\n",
        "[cite\\_start]**Program Title:** Create a custom exception class NegativeValueError and raise it when negative input is given[cite: 770].\n",
        "**Program:**"
      ],
      "metadata": {
        "id": "mdR6QdyVi1F2"
      }
    },
    {
      "cell_type": "code",
      "source": [
        "class NegativeValueError(Exception):\n",
        "    \"\"\"Custom exception raised for negative input values.\"\"\"\n",
        "    pass\n",
        "\n",
        "def process_positive_number(number):\n",
        "    try:\n",
        "        if number < 0:\n",
        "            raise NegativeValueError(\"Input must be a non-negative number.\")\n",
        "        return f\"Processing positive number: {number}\"\n",
        "    except NegativeValueError as e:\n",
        "        print(f\"Caught exception: {e}\")\n",
        "\n",
        "print(process_positive_number(10))\n",
        "process_positive_number(-5)"
      ],
      "outputs": [],
      "execution_count": null,
      "metadata": {
        "id": "58spCMeXi1F2"
      }
    },
    {
      "cell_type": "markdown",
      "source": [
        "[cite\\_start][cite: 772, 773, 774, 775, 776, 777, 779, 780, 781, 782, 783, 784]\n",
        "\n",
        "-----\n",
        "\n",
        "### **Program No: 26**\n",
        "\n",
        "[cite\\_start]**Program Title:** Demonstrate use of try-except-else-finally[cite: 801].\n",
        "**Program:**"
      ],
      "metadata": {
        "id": "6TsrqjhDi1F2"
      }
    },
    {
      "cell_type": "code",
      "source": [
        "def divide_numbers(a, b):\n",
        "    try:\n",
        "        result = a / b\n",
        "    except ZeroDivisionError:\n",
        "        # This block is executed if a ZeroDivisionError occurs in the try block\n",
        "        print(\"Error: Division by zero is not allowed.\")\n",
        "    except TypeError:\n",
        "        # This block is executed if a TypeError occurs\n",
        "        print(\"Error: Invalid input types. Please use numbers.\")\n",
        "    else:\n",
        "        # This block is executed if the try block completes without raising an exception\n",
        "        print(f\"Division successful. Result: {result}\")\n",
        "    finally:\n",
        "        # This block is always executed, regardless of whether an exception occurred or not\n",
        "        print(\"Execution of divide_numbers function is complete.\")\n",
        "\n",
        "divide_numbers(10, 2)\n",
        "print(\"-\" * 20)\n",
        "divide_numbers(5, 0)\n",
        "print(\"-\" * 20)\n",
        "divide_numbers(10, \"a\")"
      ],
      "outputs": [],
      "execution_count": null,
      "metadata": {
        "id": "GU43iPfOi1F2"
      }
    },
    {
      "cell_type": "markdown",
      "source": [
        "[cite\\_start][cite: 803, 804, 805, 806, 807, 808, 809, 810, 812, 813, 814, 816, 817, 818, 819, 822, 823, 824, 825, 826]\n",
        "\n",
        "-----\n",
        "\n",
        "### **Program No: 27**\n",
        "\n",
        "[cite\\_start]**Program Title:** Create a numpy array filled with all ones by defining its shape[cite: 844].\n",
        "**Program:**"
      ],
      "metadata": {
        "id": "9zs1Mx6li1F3"
      }
    },
    {
      "cell_type": "code",
      "source": [
        "import numpy as np\n",
        "# Define the shape of the array\n",
        "array_shape = (3, 4)\n",
        "# Create a NumPy array filled with ones\n",
        "ones_array = np.ones(array_shape)\n",
        "print(f\"NumPy array of shape {array_shape} filled with ones:\")\n",
        "print(ones_array)"
      ],
      "outputs": [],
      "execution_count": null,
      "metadata": {
        "id": "WMzp_sTci1F3"
      }
    },
    {
      "cell_type": "markdown",
      "source": [
        "[cite\\_start][cite: 846, 847, 848, 849, 850, 853, 854]\n",
        "\n",
        "-----\n",
        "\n",
        "### **Program No: 28**\n",
        "\n",
        "[cite\\_start]**Program Title:** How do you remove rows from a Numpy array that contains non-numeric values? [cite: 872]\n",
        "**Program:**"
      ],
      "metadata": {
        "id": "yLJzFfari1F3"
      }
    },
    {
      "cell_type": "code",
      "source": [
        "import numpy as np\n",
        "data = np.array([[1, 2, 3],\n",
        "                   [4, 'abc', 6],\n",
        "                   [7, 8, 9],\n",
        "                   ['def', 10, 11]], dtype=object)\n",
        "print(\"Original array:\")\n",
        "print(data)\n",
        "numeric_rows = []\n",
        "for row in data:\n",
        "    is_numeric_row = True\n",
        "    for item in row:\n",
        "        try:\n",
        "            float(item)\n",
        "        except ValueError:\n",
        "            is_numeric_row = False\n",
        "            break\n",
        "    if is_numeric_row:\n",
        "        numeric_rows.append(row)\n",
        "# Convert the list of numeric rows back to a NumPy array\n",
        "cleaned_array = np.array(numeric_rows)\n",
        "print(\"\\nArray after removing rows with non-numeric values:\")\n",
        "print(cleaned_array)"
      ],
      "outputs": [],
      "execution_count": null,
      "metadata": {
        "id": "eiCP_F4wi1F3"
      }
    },
    {
      "cell_type": "markdown",
      "source": [
        "[cite\\_start][cite: 874, 875, 876, 877, 878, 879, 880, 883, 884, 888, 889, 890, 891, 892, 896, 897, 898, 899, 900, 901, 902]\n",
        "\n",
        "-----\n",
        "\n",
        "### **Program No: 29**\n",
        "\n",
        "[cite\\_start]**Program Title:** Remove single-dimensional entries from the shape of an array[cite: 920].\n",
        "**Program:**"
      ],
      "metadata": {
        "id": "2px2BIF3i1F3"
      }
    },
    {
      "cell_type": "code",
      "source": [
        "import numpy as np\n",
        "data = np.array([[[1, 2, 3]], [[4, 5, 6]]])\n",
        "print(\"Original array shape:\", data.shape)\n",
        "# Remove single-dimensional entries\n",
        "squeezed_array = np.squeeze(data)\n",
        "print(\"Squeezed array shape:\", squeezed_array.shape)\n",
        "print(\"Squeezed array:\\n\", squeezed_array)"
      ],
      "outputs": [],
      "execution_count": null,
      "metadata": {
        "id": "yvoCxEsri1F3"
      }
    },
    {
      "cell_type": "markdown",
      "source": [
        "[cite\\_start][cite: 922, 923, 924, 925, 926, 927, 928]\n",
        "\n",
        "-----\n",
        "\n",
        "### **Program No: 30**\n",
        "\n",
        "[cite\\_start]**Program Title:** How do you check whether specified values are present in the NumPy array? [cite: 950]\n",
        "**Program:**"
      ],
      "metadata": {
        "id": "A7jQGhHGi1F3"
      }
    },
    {
      "cell_type": "code",
      "source": [
        "import numpy as np\n",
        "data = np.array([10, 20, 30, 40, 50, 60])\n",
        "# Values to check for presence\n",
        "values_to_check = [20, 55, 40]\n",
        "print(\"Original array:\", data)\n",
        "print(\"Values to check:\", values_to_check)\n",
        "# Method 1: Using boolean indexing\n",
        "print(\"\\nMethod 1: Using boolean indexing\")\n",
        "for value in values_to_check:\n",
        "    is_present = (data == value).any()\n",
        "    print(f\"Is {value} present? {is_present}\")\n",
        "# Method 2: Using np.isin()\n",
        "print(\"\\nMethod 2: Using np.isin()\")\n",
        "presence_mask = np.isin(data, values_to_check)\n",
        "print(\"Presence mask:\", presence_mask)\n",
        "# To check if *any* of the values are present:\n",
        "print(f\"Are any of the values present? {presence_mask.any()}\")\n",
        "print(f\"Are all of the values present? {np.all(np.isin(values_to_check, data))}\")"
      ],
      "outputs": [],
      "execution_count": null,
      "metadata": {
        "id": "-DGqkCD3i1F3"
      }
    },
    {
      "cell_type": "markdown",
      "source": [
        "[cite\\_start][cite: 952, 953, 954, 955, 956, 958, 959, 960, 961, 962, 963, 964, 965, 969, 973, 974, 975, 976]\n",
        "\n",
        "-----\n",
        "\n",
        "### **Program No: 31**\n",
        "\n",
        "[cite\\_start]**Program Title:** Write a NumPy program to sort a given array of shape 2 along the first axis, last axis, and flattened array[cite: 996].\n",
        "**Program:**"
      ],
      "metadata": {
        "id": "QEPNCu8ti1F3"
      }
    },
    {
      "cell_type": "code",
      "source": [
        "import numpy as np\n",
        "data = np.array([[3, 1, 2],\n",
        "                   [6, 5, 4]])\n",
        "print(\"Original array:\")\n",
        "print(data)\n",
        "# Sort along the first axis (rows)\n",
        "sorted_axis_0 = np.sort(data, axis=0)\n",
        "print(\"\\nSorted along the first axis (axis=0):\")\n",
        "print(sorted_axis_0)\n",
        "# Sort along the last axis (columns)\n",
        "sorted_axis_1 = np.sort(data, axis=1)\n",
        "print(\"\\nSorted along the last axis (axis=1):\")\n",
        "print(sorted_axis_1)\n",
        "# Sort the flattened array\n",
        "sorted_flattened = np.sort(data.flatten())\n",
        "print(\"\\nSorted flattened array:\")\n",
        "print(sorted_flattened)"
      ],
      "outputs": [],
      "execution_count": null,
      "metadata": {
        "id": "H1acBr7Vi1F4"
      }
    },
    {
      "cell_type": "markdown",
      "source": [
        "[cite\\_start][cite: 998, 999, 1000, 1001, 1002, 1006, 1007, 1008, 1009, 1010, 1011, 1012, 1013, 1017, 1018, 1019, 1020]\n",
        "\n",
        "-----\n",
        "\n",
        "### **Program No: 32**\n",
        "\n",
        "**Program Title:** Write a NumPy program to create a structured array from a given student name, height, class, and data type. [cite\\_start]Now sort by class, then height if the classes are equal[cite: 1044, 1045].\n",
        "**Program:**"
      ],
      "metadata": {
        "id": "edKkLwNCi1F4"
      }
    },
    {
      "cell_type": "code",
      "source": [
        "import numpy as np\n",
        "student_data = [\n",
        "    ('Alice', 1.65, 10),\n",
        "    ('Bob', 1.80, 11),\n",
        "    ('Charlie', 1.75, 10),\n",
        "    ('David', 1.70, 11),\n",
        "    ('Eve', 1.60, 10)\n",
        "]\n",
        "# Define the data type for the structured array\n",
        "data_type = [('name', 'S10'), ('height', 'f4'), ('class', 'i4')]\n",
        "# Create the structured array\n",
        "structured_array = np.array(student_data, dtype=data_type)\n",
        "print(\"Original structured array:\")\n",
        "print(structured_array)\n",
        "# Sort by class, then by height\n",
        "sorted_array = np.sort(structured_array, order=['class', 'height'])\n",
        "print(\"\\nSorted structured array (by class, then height):\")\n",
        "print(sorted_array)"
      ],
      "outputs": [],
      "execution_count": null,
      "metadata": {
        "id": "qOEScrJei1F4"
      }
    },
    {
      "cell_type": "markdown",
      "source": [
        "[cite\\_start][cite: 1047, 1048, 1050, 1051, 1053, 1055, 1056, 1057, 1058, 1059, 1060, 1061, 1065, 1066, 1067, 1068]\n",
        "\n",
        "-----\n",
        "\n",
        "### **Program No: 33**\n",
        "\n",
        "[cite\\_start]**Program Title:** Write a NumPy program to sort a given complex array using the real part first, then the imaginary part[cite: 1084].\n",
        "**Program:**"
      ],
      "metadata": {
        "id": "euFP_DDNi1F4"
      }
    },
    {
      "cell_type": "code",
      "source": [
        "import numpy as np\n",
        "# Complex NumPy array\n",
        "complex_array = np.array([3+2j, 1+4j, 2+1j, 3+1j, 1+2j])\n",
        "print(\"Original complex array:\")\n",
        "print(complex_array)\n",
        "# Sort the complex array by real part, then imaginary part\n",
        "sorted_complex_array = np.sort(complex_array)\n",
        "print(\"\\nSorted complex array (by real then imaginary part):\")\n",
        "print(sorted_complex_array)"
      ],
      "outputs": [],
      "execution_count": null,
      "metadata": {
        "id": "bECWK2Dei1F4"
      }
    },
    {
      "cell_type": "markdown",
      "source": [
        "[cite\\_start][cite: 1086, 1087, 1088, 1089, 1090, 1093, 1094, 1095, 1096]\n",
        "\n",
        "-----\n",
        "\n",
        "### **Program No: 34**\n",
        "\n",
        "[cite\\_start]**Program Title:** Write a NumPy program to sort a given array by the nth column[cite: 1112].\n",
        "**Program:**"
      ],
      "metadata": {
        "id": "1glrtXofi1F4"
      }
    },
    {
      "cell_type": "code",
      "source": [
        "import numpy as np\n",
        "data = np.array([[3, 2, 1],\n",
        "                   [6, 5, 4],\n",
        "                   [9, 8, 7]])\n",
        "print(\"Original array:\")\n",
        "print(data)\n",
        "n = 1\n",
        "sorted_indices = np.argsort(data[:, n])\n",
        "sorted_array_by_column = data[sorted_indices]\n",
        "print(f\"\\nSorted array by column {n}:\")\n",
        "print(sorted_array_by_column)"
      ],
      "outputs": [],
      "execution_count": null,
      "metadata": {
        "id": "U5i4m1kui1F4"
      }
    },
    {
      "cell_type": "markdown",
      "source": [
        "[cite\\_start][cite: 1114, 1115, 1116, 1117, 1118, 1119, 1120, 1123, 1124, 1125]\n",
        "\n",
        "-----\n",
        "\n",
        "### **Program No: 35**\n",
        "\n",
        "[cite\\_start]**Program Title:** Calculate the sum of the diagonal elements of a NumPy array[cite: 1146].\n",
        "**Program:**"
      ],
      "metadata": {
        "id": "b08h-g3Di1F4"
      }
    },
    {
      "cell_type": "code",
      "source": [
        "import numpy as np\n",
        "data = np.array([[1, 2, 3],\n",
        "                   [4, 5, 6],\n",
        "                   [7, 8, 9]])\n",
        "print(\"Original array:\")\n",
        "print(data)\n",
        "# Calculate the sum of the diagonal elements\n",
        "diagonal_sum = np.trace(data)\n",
        "print(f\"\\nSum of diagonal elements: {diagonal_sum}\")"
      ],
      "outputs": [],
      "execution_count": null,
      "metadata": {
        "id": "y1Q8eIgbi1F4"
      }
    },
    {
      "cell_type": "markdown",
      "source": [
        "[cite\\_start][cite: 1148, 1149, 1150, 1151, 1152, 1153, 1155, 1156, 1158]\n",
        "\n",
        "-----\n",
        "\n",
        "### **Program No: 36**\n",
        "\n",
        "[cite\\_start]**Program Title:** Write a program for Matrix Multiplication in NumPy[cite: 1178].\n",
        "**Program:**"
      ],
      "metadata": {
        "id": "MGRdqA2zi1F5"
      }
    },
    {
      "cell_type": "code",
      "source": [
        "import numpy as np\n",
        "# Define two matrices\n",
        "matrix1 = np.array([[1, 2],\n",
        "                      [3, 4]])\n",
        "matrix2 = np.array([[5, 6],\n",
        "                      [7, 8]])\n",
        "print(\"Matrix 1:\")\n",
        "print(matrix1)\n",
        "print(\"\\nMatrix 2:\")\n",
        "print(matrix2)\n",
        "# matrix multiplication\n",
        "result_matrix = np.dot(matrix1, matrix2)\n",
        "print(\"\\nResult of Matrix Multiplication (Matrix 1 @ Matrix 2):\")\n",
        "print(result_matrix)"
      ],
      "outputs": [],
      "execution_count": null,
      "metadata": {
        "id": "rueozqKmi1F5"
      }
    },
    {
      "cell_type": "markdown",
      "source": [
        "[cite\\_start][cite: 1181, 1182, 1183, 1184, 1185, 1186, 1187, 1188, 1189, 1190, 1191, 1194, 1196, 1197]\n",
        "\n",
        "-----\n",
        "\n",
        "### **Program No: 37**\n",
        "\n",
        "[cite\\_start]**Program Title:** Multiply matrices of complex numbers using NumPy in Python[cite: 1224].\n",
        "**Program:**"
      ],
      "metadata": {
        "id": "gXPm2aVAi1F5"
      }
    },
    {
      "cell_type": "code",
      "source": [
        "import numpy as np\n",
        "# Define two matrices with complex numbers\n",
        "complex_matrix1 = np.array([[1+2j, 3+4j],\n",
        "                              [5+6j, 7+8j]])\n",
        "complex_matrix2 = np.array([[9 + 10j, 11 + 12j],\n",
        "                              [13 + 14j, 15 + 16j]])\n",
        "print(\"Complex Matrix 1:\")\n",
        "print(complex_matrix1)\n",
        "print(\"\\nComplex Matrix 2:\")\n",
        "print(complex_matrix2)\n",
        "# Perform matrix multiplication with complex numbers\n",
        "complex_result_matrix = complex_matrix1 @ complex_matrix2\n",
        "# Alternative: complex_result_matrix = np.dot(complex_matrix1, complex_matrix2)\n",
        "print(\"\\nResult of Complex Matrix Multiplication (Complex Matrix 1 @ Complex Matrix 2):\")\n",
        "print(complex_result_matrix)"
      ],
      "outputs": [],
      "execution_count": null,
      "metadata": {
        "id": "RdZBo8Vui1F5"
      }
    },
    {
      "cell_type": "markdown",
      "source": [
        "[cite\\_start][cite: 1226, 1227, 1228, 1229, 1230, 1231, 1232, 1233, 1234, 1239, 1240, 1241, 1244, 1245]\n",
        "\n",
        "-----\n",
        "\n",
        "### **Program No: 38**\n",
        "\n",
        "[cite\\_start]**Program Title:** Compute the covariance matrix of two given NumPy arrays[cite: 1268].\n",
        "**Program:**"
      ],
      "metadata": {
        "id": "xBke4cc5i1F5"
      }
    },
    {
      "cell_type": "code",
      "source": [
        "import numpy as np\n",
        "x = np.array([1, 2, 3, 4, 5])\n",
        "y = np.array([5, 4, 3, 2, 1])\n",
        "print(\"Array x:\", x)\n",
        "print(\"Array y:\", y)\n",
        "covariance_matrix = np.cov(x, y)\n",
        "print(\"\\nCovariance matrix of x and y:\")\n",
        "print(covariance_matrix)"
      ],
      "outputs": [],
      "execution_count": null,
      "metadata": {
        "id": "sDPRUWALi1F5"
      }
    },
    {
      "cell_type": "markdown",
      "source": [
        "[cite\\_start][cite: 1270, 1271, 1272, 1273, 1274, 1276, 1277, 1278, 1279, 1280]\n",
        "\n",
        "-----\n",
        "\n",
        "### **Program No: 39**\n",
        "\n",
        "[cite\\_start]**Program Title:** Convert covariance matrix to correlation matrix using Python[cite: 1301].\n",
        "**Program:**"
      ],
      "metadata": {
        "id": "tZC-U941i1F5"
      }
    },
    {
      "cell_type": "code",
      "source": [
        "import numpy as np\n",
        "covariance_matrix = np.array([[2.5, -2.5],\n",
        "                                [-2.5, 2.5]])\n",
        "print(\"Original Covariance Matrix:\")\n",
        "print(covariance_matrix)\n",
        "std_devs = np.sqrt(np.diag(covariance_matrix))\n",
        "outer_std_devs = np.outer(std_devs, std_devs)\n",
        "correlation_matrix = np.divide(covariance_matrix, outer_std_devs)\n",
        "print(\"\\nCorrelation Matrix:\")\n",
        "print(correlation_matrix)\n",
        "x = np.array([1, 2, 3, 4, 5])\n",
        "y = np.array([5, 4, 3, 2, 1])\n",
        "correlation_matrix_from_data = np.corrcoef(x, y)\n",
        "print(\"\\nCorrelation Matrix computed directly from data (for comparison):\")\n",
        "print(correlation_matrix_from_data)"
      ],
      "outputs": [],
      "execution_count": null,
      "metadata": {
        "id": "SiV4hFzvi1F5"
      }
    },
    {
      "cell_type": "markdown",
      "source": [
        "[cite\\_start][cite: 1303, 1304, 1305, 1306, 1307, 1308, 1309, 1311, 1312, 1313, 1314, 1315, 1319, 1320, 1321]\n",
        "\n",
        "-----\n",
        "\n",
        "### **Program No: 40**\n",
        "\n",
        "[cite\\_start]**Program Title:** Write a NumPy program to compute the histogram of nums against the bins[cite: 1348].\n",
        "**Program:**"
      ],
      "metadata": {
        "id": "VyydE3lSi1F5"
      }
    },
    {
      "cell_type": "code",
      "source": [
        "import numpy as np\n",
        "nums = np.array([1, 2, 3, 4, 5, 6, 7, 8, 9, 10])\n",
        "bins = np.array([0, 2, 4, 6, 8, 10])\n",
        "print(\"Data:\", nums)\n",
        "print(\"Bins:\", bins)\n",
        "histogram, bin_edges = np.histogram(nums, bins)\n",
        "print(\"\\nHistogram (counts per bin):\", histogram)\n",
        "print(\"Bin edges:\", bin_edges)"
      ],
      "outputs": [],
      "execution_count": null,
      "metadata": {
        "id": "yjHQXzyei1F5"
      }
    },
    {
      "cell_type": "markdown",
      "source": [
        "[cite\\_start][cite: 1350, 1351, 1352, 1353, 1354, 1356, 1357, 1358, 1359]\n",
        "\n",
        "-----\n",
        "\n",
        "### **Program No: 41**\n",
        "\n",
        "[cite\\_start]**Program Title:** Write a NumPy program to compute the cross-correlation of two given arrays[cite: 1380].\n",
        "**Program:**"
      ],
      "metadata": {
        "id": "soi19DURi1F5"
      }
    },
    {
      "cell_type": "code",
      "source": [
        "import numpy as np\n",
        "x = np.array([1, 2, 3, 4, 5])\n",
        "y = np.array([6, 7, 8, 9, 10])\n",
        "print(\"Array x:\", x)\n",
        "print(\"Array y:\", y)\n",
        "cross_correlation = np.correlate(x, y, mode='full')\n",
        "print(\"\\nCross-correlation of x and y (mode='full'):\")\n",
        "print(cross_correlation)\n",
        "cross_correlation_valid = np.correlate(x, y, mode='valid')\n",
        "print(\"\\nCross-correlation of x and y (mode='valid'):\")\n",
        "print(cross_correlation_valid)\n",
        "cross_correlation_same = np.correlate(x, y, mode='same')\n",
        "print(\"\\nCross-correlation of x and y (mode='same'):\")\n",
        "print(cross_correlation_same)"
      ],
      "outputs": [],
      "execution_count": null,
      "metadata": {
        "id": "0GIvy3shi1F6"
      }
    },
    {
      "cell_type": "markdown",
      "source": [
        "[cite\\_start][cite: 1382, 1383, 1384, 1385, 1386, 1388, 1389, 1390, 1392, 1393, 1394, 1395, 1396]\n",
        "\n",
        "-----\n",
        "\n",
        "### **Program No: 42**\n",
        "\n",
        "[cite\\_start]**Program Title:** Write a NumPy program to compute the mean, standard deviation, and variance of a given array along the second axis[cite: 1422].\n",
        "**Program:**"
      ],
      "metadata": {
        "id": "ZaeIV6c3i1F6"
      }
    },
    {
      "cell_type": "code",
      "source": [
        "import numpy as np\n",
        "data = np.array([[1, 2, 3, 4],\n",
        "                   [5, 6, 7, 8],\n",
        "                   [9, 10, 11, 12]])\n",
        "print(\"Original array:\")\n",
        "print(data)\n",
        "mean_along_axis_1 = np.mean(data, axis=1)\n",
        "print(\"\\nMean along the second axis (axis=1):\", mean_along_axis_1)\n",
        "std_dev_along_axis_1 = np.std(data, axis=1)\n",
        "print(\"Standard deviation along the second axis (axis=1):\", std_dev_along_axis_1)\n",
        "variance_along_axis_1 = np.var(data, axis=1)\n",
        "print(\"Variance along the second axis (axis=1):\", variance_along_axis_1)"
      ],
      "outputs": [],
      "execution_count": null,
      "metadata": {
        "id": "roZIZ1qgi1F6"
      }
    },
    {
      "cell_type": "markdown",
      "source": [
        "[cite\\_start][cite: 1424, 1425, 1426, 1427, 1428, 1429, 1431, 1433, 1434, 1435, 1436, 1437]\n",
        "\n",
        "-----\n",
        "\n",
        "### **Program No: 43**\n",
        "\n",
        "**Program Title:** Visualize the following using the given dataset- alphabet\\_stock\\_data.csv\n",
        "a. Create a line plot of the historical stock prices of Alphabet Inc. between two specific dates.\n",
        "b. Create a bar plot of the trading volume of Alphabet Inc. stock between two specific dates.\n",
        "c. Create a stacked histogram plot with more bins of opening, closing, high, and low stock prices of Alphabet Inc. between two specific dates.\n",
        "d. Create a scatter plot of the trading volume/stock prices of Alphabet Inc. stock between two specific dates.\n",
        "[cite\\_start][cite: 1455, 1456, 1457, 1458, 1459]\n",
        "**Program:**"
      ],
      "metadata": {
        "id": "pXY8W434i1F6"
      }
    },
    {
      "cell_type": "code",
      "source": [
        "import pandas as pd\n",
        "import matplotlib.pyplot as plt\n",
        "\n",
        "try:\n",
        "    df = pd.read_csv('Alphabet Stock.csv')\n",
        "except FileNotFoundError:\n",
        "    print(\"Error: 'Alphabet Stock.csv' not found. Please ensure the file is in the correct directory.\")\n",
        "    exit()\n",
        "\n",
        "df['Date'] = pd.to_datetime(df['Date'])\n",
        "df.set_index('Date', inplace=True)\n",
        "start_date = '2020-01-01'\n",
        "end_date = '2020-10-22'\n",
        "df_range = df.loc[start_date:end_date]\n",
        "\n",
        "if df_range.empty:\n",
        "    print(f\"No data available for the selected date range: {start_date} to {end_date}.\")\n",
        "else:\n",
        "    fig, axs = plt.subplots(2, 2, figsize=(20, 14))\n",
        "    fig.suptitle(f'Alphabet Inc. Stock Analysis ({start_date} to {end_date})', fontsize=20)\n",
        "\n",
        "    axs[0, 0].plot(df_range.index, df_range['Close'], color='blue', label='Close Price')\n",
        "    axs[0, 0].set_title('Historical Stock Prices')\n",
        "    axs[0, 0].set_xlabel('Date')\n",
        "    axs[0, 0].set_ylabel('Stock Price (USD)')\n",
        "    axs[0, 0].grid(True)\n",
        "    axs[0, 0].tick_params(axis='x', rotation=45)\n",
        "    axs[0, 0].legend()\n",
        "\n",
        "    axs[0, 1].bar(df_range.index, df_range['Volume'], color='green', alpha=0.7)\n",
        "    axs[0, 1].set_title('Trading Volume')\n",
        "    axs[0, 1].set_xlabel('Date')\n",
        "    axs[0, 1].set_ylabel('Volume')\n",
        "    axs[0, 1].grid(axis='y')\n",
        "    axs[0, 1].tick_params(axis='x', rotation=45)\n",
        "\n",
        "    prices = [df_range['Open'], df_range['High'], df_range['Low'], df_range['Close']]\n",
        "    labels = ['Open', 'High', 'Low', 'Close']\n",
        "    axs[1, 0].hist(prices, bins=50, stacked=True, label=labels, edgecolor='black')\n",
        "    axs[1, 0].set_title('Stacked Histogram of OHLC Prices')\n",
        "    axs[1, 0].set_xlabel('Stock Price (USD)')\n",
        "    axs[1, 0].set_ylabel('Frequency')\n",
        "    axs[1, 0].legend()\n",
        "    axs[1, 0].grid(axis='y')\n",
        "\n",
        "    axs[1, 1].scatter(df_range['Close'], df_range['Volume'], alpha=0.6, edgecolors='w', s=50)\n",
        "    axs[1, 1].set_title('Trading Volume vs. Stock Price')\n",
        "    axs[1, 1].set_xlabel('Stock Price (USD)')\n",
        "    axs[1, 1].set_ylabel('Volume')\n",
        "    axs[1, 1].grid(True)\n",
        "\n",
        "    plt.tight_layout(rect=[0, 0, 1, 0.96])\n",
        "    plt.show()"
      ],
      "outputs": [],
      "execution_count": null,
      "metadata": {
        "id": "jCTgIARki1F6"
      }
    },
    {
      "cell_type": "markdown",
      "source": [
        "[cite\\_start][cite: 1461, 1463, 1464, 1465, 1467, 1468, 1471, 1472, 1473, 1474, 1475, 1479, 1480, 1481, 1482, 1483, 1484, 1485, 1486, 1487, 1488, 1489, 1490, 1493, 1494, 1495, 1497, 1498, 1499, 1500, 1501, 1506, 1507, 1508, 1509, 1510, 1511, 1512, 1513, 1514, 1515]\n",
        "\n",
        "-----\n",
        "\n",
        "### **Program No: 44**\n",
        "\n",
        "**Program Title:** Handle the given datasets with adequate preprocessing steps mentioned and visualize the dataset with appropriate graphs.\n",
        "a. Handle Missing Data Values\n",
        "b. Encode the categorical data\n",
        "c. Scale your features\n",
        "d. Normalize the data (if necessary)\n",
        "Download the Datasets: Titanic Dataset, Diabetes Dataset, Breast Cancer Wisconsin (Diagnostic) Dataset from online repositories.\n",
        "[cite\\_start][cite: 1571, 1572, 1573, 1574, 1575, 1576, 1577]\n",
        "**Program:**"
      ],
      "metadata": {
        "id": "ZMgwjg7Zi1F6"
      }
    },
    {
      "cell_type": "code",
      "source": [
        "import pandas as pd\n",
        "import numpy as np\n",
        "import matplotlib.pyplot as plt\n",
        "import seaborn as sns\n",
        "from sklearn.preprocessing import StandardScaler, MinMaxScaler, LabelEncoder\n",
        "sns.set_style(\"whitegrid\")\n",
        "\n",
        "def preprocess_and_visualize_titanic(df):\n",
        "    df['Age'] = df['Age'].fillna(df['Age'].median())\n",
        "    df['Embarked'] = df['Embarked'].fillna(df['Embarked'].mode()[0])\n",
        "    df.drop(columns=['Cabin', 'PassengerId', 'Name', 'Ticket'], inplace=True)\n",
        "    df = pd.get_dummies(df, columns=['Sex', 'Embarked'], drop_first=True)\n",
        "    X = df.drop('Survived', axis=1)\n",
        "    y = df['Survived']\n",
        "    scaler = MinMaxScaler()\n",
        "    X_scaled = scaler.fit_transform(X)\n",
        "    X_scaled = pd.DataFrame(X_scaled, columns=X.columns)\n",
        "    fig, axes = plt.subplots(2, 2, figsize=(16, 12))\n",
        "    fig.suptitle('Titanic Dataset Analysis', fontsize=20)\n",
        "    sns.countplot(ax=axes[0, 0], x='Survived', data=df)\n",
        "    axes[0, 0].set_title('Survival Count (0 = No, 1 = Yes)')\n",
        "    sns.countplot(ax=axes[0, 1], x='Sex_male', data=df, hue='Survived')\n",
        "    axes[0, 1].set_title('Survival by Gender (0 = Female, 1 = Male)')\n",
        "    axes[0, 1].set_xlabel('Gender')\n",
        "    sns.countplot(ax=axes[1, 0], x='Pclass', data=df, hue='Survived')\n",
        "    axes[1, 0].set_title('Survival Count by Passenger Class')\n",
        "    sns.histplot(ax=axes[1, 1], data=df, x='Age', kde=True, bins=30)\n",
        "    axes[1, 1].set_title('Age Distribution of Passengers')\n",
        "    plt.tight_layout(rect=[0, 0, 1, 0.96])\n",
        "    plt.show()\n",
        "\n",
        "def preprocess_and_visualize_diabetes(df):\n",
        "    cols_to_replace = ['Glucose', 'BloodPressure', 'SkinThickness', 'Insulin', 'BMI']\n",
        "    for col in cols_to_replace:\n",
        "        df[col] = df[col].replace(0, np.nan)\n",
        "        mean_val = df[col].mean()\n",
        "        df[col] = df[col].fillna(mean_val)\n",
        "    X = df.drop('Outcome', axis=1)\n",
        "    y = df['Outcome']\n",
        "    scaler = StandardScaler()\n",
        "    X_scaled = scaler.fit_transform(X)\n",
        "    X_scaled = pd.DataFrame(X_scaled, columns=X.columns)\n",
        "    fig, axes = plt.subplots(2, 2, figsize=(16, 12))\n",
        "    fig.suptitle('Diabetes Dataset Analysis', fontsize=20)\n",
        "    sns.countplot(ax=axes[0, 0], x='Outcome', data=df)\n",
        "    axes[0, 0].set_title('Diabetes Outcome (0 = No, 1 = Yes)')\n",
        "    sns.histplot(ax=axes[0, 1], data=df, x='Glucose', hue='Outcome', kde=True)\n",
        "    axes[0, 1].set_title('Glucose Distribution by Outcome')\n",
        "    sns.boxplot(ax=axes[1, 0], x='Outcome', y='BMI', data=df)\n",
        "    axes[1, 0].set_title('BMI Distribution by Outcome')\n",
        "    sns.histplot(ax=axes[1, 1], data=df, x='Age', kde=True, bins=30)\n",
        "    axes[1, 1].set_title('Age Distribution of Patients')\n",
        "    plt.tight_layout(rect=[0, 0, 1, 0.96])\n",
        "    plt.show()\n",
        "\n",
        "def preprocess_and_visualize_breast_cancer(df):\n",
        "    if 'Unnamed: 32' in df.columns:\n",
        "        df = df.drop(columns=['id', 'Unnamed: 32'])\n",
        "    else:\n",
        "        df = df.drop(columns=['id'])\n",
        "    le = LabelEncoder()\n",
        "    df['diagnosis'] = le.fit_transform(df['diagnosis']) # M=1, B=0\n",
        "    X = df.drop('diagnosis', axis=1)\n",
        "    y = df['diagnosis']\n",
        "    scaler = StandardScaler()\n",
        "    X_scaled = scaler.fit_transform(X)\n",
        "    X_scaled = pd.DataFrame(X_scaled, columns=X.columns)\n",
        "    fig, axes = plt.subplots(1, 2, figsize=(16, 6))\n",
        "    fig.suptitle('Breast Cancer Dataset Analysis', fontsize=20)\n",
        "    sns.countplot(ax=axes[0], x='diagnosis', data=df)\n",
        "    axes[0].set_title('Diagnosis Count (0 = Benign, 1 = Malignant)')\n",
        "    mean_features = ['diagnosis'] + list(df.columns[1:11])\n",
        "    corr_matrix = df[mean_features].corr()\n",
        "    sns.heatmap(ax=axes[1], data=corr_matrix, annot=False, cmap='coolwarm')\n",
        "    axes[1].set_title('Correlation Heatmap of Mean Features')\n",
        "    plt.tight_layout(rect=[0, 0, 1, 0.96])\n",
        "    plt.show()\n",
        "    fig, axes = plt.subplots(1, 2, figsize=(16, 6))\n",
        "    sns.violinplot(ax=axes[0], x='diagnosis', y='radius_mean', data=df)\n",
        "    axes[0].set_title('Radius Mean Distribution by Diagnosis')\n",
        "    sns.violinplot(ax=axes[1], x='diagnosis', y='texture_mean', data=df)\n",
        "    axes[1].set_title('Texture Mean Distribution by Diagnosis')\n",
        "    plt.show()\n",
        "\n",
        "if __name__ == '__main__':\n",
        "    try:\n",
        "        titanic_df = pd.read_csv('Titanic-Dataset.csv')\n",
        "        preprocess_and_visualize_titanic(titanic_df.copy())\n",
        "    except FileNotFoundError:\n",
        "        print(\"Error: 'Titanic-Dataset.csv' not found.\")\n",
        "    try:\n",
        "        diabetes_df = pd.read_csv('diabetes.csv')\n",
        "        preprocess_and_visualize_diabetes(diabetes_df.copy())\n",
        "    except FileNotFoundError:\n",
        "        print(\"Error: 'diabetes.csv' not found.\")\n",
        "    try:\n",
        "        cancer_df = pd.read_csv('data.csv')\n",
        "        preprocess_and_visualize_breast_cancer(cancer_df.copy())\n",
        "    except FileNotFoundError:\n",
        "        print(\"Error: 'data.csv' not found.\")"
      ],
      "outputs": [],
      "execution_count": null,
      "metadata": {
        "id": "uRiRXiIJi1F6"
      }
    },
    {
      "cell_type": "markdown",
      "source": [
        "[cite\\_start][cite: 1579, 1580, 1582, 1583, 1586, 1587, 1588, 1589, 1593, 1594, 1595, 1596, 1597, 1598, 1599, 1600, 1601, 1604, 1606, 1607, 1608, 1609, 1613, 1614, 1615, 1616, 1617, 1618, 1619, 1620, 1621, 1622, 1623, 1624, 1625, 1628, 1629, 1630, 1631, 1632, 1633, 1634, 1637, 1638, 1639, 1640, 1641, 1642, 1643, 1644, 1645, 1646, 1647, 1648, 1649, 1650, 1651, 1653, 1654, 1655, 1656, 1658, 1662, 1663, 1664, 1665, 1666, 1667, 1668, 1669, 1670, 1671, 1672, 1673, 1674, 1675, 1678, 1679, 1680, 1681, 1683, 1684, 1685, 1686, 1691, 1692, 1693, 1694, 1695, 1696]\n",
        "\n",
        "-----\n",
        "\n",
        "### **Program No: 45**\n",
        "\n",
        "**Program Title:** Evaluate the dataset (User\\_Data.csv) and predict whether a user will purchase the company's product or not.\n",
        "a. Compare the performance of any 3 classification models.\n",
        "[cite\\_start][cite: 1871, 1872]\n",
        "**Program:**"
      ],
      "metadata": {
        "id": "R0bjez7Ii1F6"
      }
    },
    {
      "cell_type": "code",
      "source": [
        "import pandas as pd\n",
        "import numpy as np\n",
        "import matplotlib.pyplot as plt\n",
        "import seaborn as sns\n",
        "from sklearn.model_selection import train_test_split\n",
        "from sklearn.preprocessing import StandardScaler, LabelEncoder\n",
        "from sklearn.linear_model import LogisticRegression\n",
        "from sklearn.neighbors import KNeighborsClassifier\n",
        "from sklearn.svm import SVC\n",
        "from sklearn.metrics import accuracy_score, classification_report, confusion_matrix\n",
        "from matplotlib.colors import ListedColormap\n",
        "\n",
        "try:\n",
        "    df = pd.read_csv('User_Data.csv')\n",
        "except FileNotFoundError:\n",
        "    print(\"Error: 'User_Data.csv' not found. Please ensure the file is in the correct directory.\")\n",
        "    exit()\n",
        "\n",
        "df = df.drop('User ID', axis=1)\n",
        "le = LabelEncoder()\n",
        "df['Gender'] = le.fit_transform(df['Gender'])\n",
        "X = df[['Gender', 'Age', 'EstimatedSalary']]\n",
        "y = df['Purchased']\n",
        "X_train, X_test, y_train, y_test = train_test_split(X, y, test_size=0.25, random_state=42)\n",
        "scaler = StandardScaler()\n",
        "X_train_scaled = scaler.fit_transform(X_train)\n",
        "X_test_scaled = scaler.transform(X_test)\n",
        "\n",
        "models = {\n",
        "    \"Logistic Regression\": LogisticRegression(random_state=42),\n",
        "    \"K-Nearest Neighbors (KNN)\": KNeighborsClassifier(n_neighbors=5),\n",
        "    \"Support Vector Machine (SVM)\": SVC(kernel='rbf', random_state=42)\n",
        "}\n",
        "\n",
        "print(\"-- Model Performance Comparison --\\n\")\n",
        "for name, model in models.items():\n",
        "    model.fit(X_train_scaled, y_train)\n",
        "    y_pred = model.predict(X_test_scaled)\n",
        "    accuracy = accuracy_score(y_test, y_pred)\n",
        "    report = classification_report(y_test, y_pred)\n",
        "    print(f\"--- {name} ---\")\n",
        "    print(f\"Accuracy: {accuracy:.4f}\")\n",
        "    print(\"Classification Report:\")\n",
        "    print(report)\n",
        "    print(\"Confusion Matrix:\")\n",
        "    print(confusion_matrix(y_test, y_pred))\n",
        "    print(\"-\" * 30 + \"\\n\")\n",
        "\n",
        "X_vis = df[['Age', 'EstimatedSalary']]\n",
        "y_vis = df['Purchased']\n",
        "X_train_vis, X_test_vis, y_train_vis, y_test_vis = train_test_split(X_vis, y_vis, test_size=0.25, random_state=42)\n",
        "scaler_vis = StandardScaler()\n",
        "X_train_vis_scaled = scaler_vis.fit_transform(X_train_vis)\n",
        "X_test_vis_scaled = scaler_vis.transform(X_test_vis)\n",
        "\n",
        "models_vis = {\n",
        "    \"Logistic Regression\": LogisticRegression(random_state=42),\n",
        "    \"K-Nearest Neighbors (KNN)\": KNeighborsClassifier(n_neighbors=5),\n",
        "    \"Support Vector Machine (SVM)\": SVC(kernel='rbf', random_state=42)\n",
        "}\n",
        "\n",
        "for name, model in models_vis.items():\n",
        "    model.fit(X_train_vis_scaled, y_train_vis)\n",
        "\n",
        "fig, axes = plt.subplots(1, 3, figsize=(20, 6))\n",
        "fig.suptitle('Classifier Decision Boundaries (Test Set)', fontsize=16)\n",
        "cmap_light = ListedColormap(['#FFAAAA', '#AAFFAA'])\n",
        "cmap_bold = ListedColormap(['#FF0000', '#00FF00'])\n",
        "X_set, y_set = X_test_vis_scaled, y_test_vis\n",
        "X1, X2 = np.meshgrid(np.arange(start=X_set[:, 0].min() - 1, stop=X_set[:, 0].max() + 1, step=0.01),\n",
        "                     np.arange(start=X_set[:, 1].min() - 1, stop=X_set[:, 1].max() + 1, step=0.01))\n",
        "\n",
        "for i, (name, model) in enumerate(models_vis.items()):\n",
        "    ax = axes[i]\n",
        "    Z = model.predict(np.array([X1.ravel(), X2.ravel()]).T)\n",
        "    Z = Z.reshape(X1.shape)\n",
        "    ax.contourf(X1, X2, Z, alpha=0.75, cmap=cmap_light)\n",
        "    for j, val in enumerate(np.unique(y_set)):\n",
        "        ax.scatter(X_set[y_set == val, 0], X_set[y_set == val, 1],\n",
        "                   c=[cmap_bold(j)], label=f'Purchased = {val}')\n",
        "    ax.set_title(name)\n",
        "    ax.set_xlabel('Scaled Age')\n",
        "    ax.set_ylabel('Scaled Estimated Salary')\n",
        "    ax.legend()\n",
        "\n",
        "plt.tight_layout(rect=[0, 0, 1, 0.96])\n",
        "plt.show()"
      ],
      "outputs": [],
      "execution_count": null,
      "metadata": {
        "id": "SxlE2N8Yi1F7"
      }
    },
    {
      "cell_type": "markdown",
      "source": [
        "[cite\\_start][cite: 1874, 1875, 1877, 1878, 1879, 1881, 1882, 1883, 1884, 1886, 1887, 1888, 1889, 1893, 1894, 1895, 1896, 1897, 1898, 1899, 1900, 1901, 1902, 1903, 1904, 1909, 1910, 1911, 1912, 1913, 1914, 1918, 1919, 1920, 1921, 1922, 1923, 1924, 1925, 1926, 1927, 1928, 1929, 1932, 1933, 1934, 1936, 1937, 1940, 1941, 1942, 1943, 1947, 1948, 1949, 1950, 1951, 1952, 1953, 1954, 1955, 1957, 1958, 1960, 1964, 1965, 1966, 1967, 1968, 1969, 1973, 1974]"
      ],
      "metadata": {
        "id": "z5k2T__Zi1F7"
      }
    }
  ],
  "metadata": {
    "colab": {
      "provenance": [],
      "include_colab_link": true
    },
    "kernelspec": {
      "display_name": "Python 3",
      "name": "python3"
    }
  },
  "nbformat": 4,
  "nbformat_minor": 0
}