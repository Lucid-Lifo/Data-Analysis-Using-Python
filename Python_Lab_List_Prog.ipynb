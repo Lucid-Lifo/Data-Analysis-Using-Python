{
  "nbformat": 4,
  "nbformat_minor": 0,
  "metadata": {
    "colab": {
      "provenance": [],
      "authorship_tag": "ABX9TyNsmyLCNMbM/VEXpsgDuU0H",
      "include_colab_link": true
    },
    "kernelspec": {
      "name": "python3",
      "display_name": "Python 3"
    },
    "language_info": {
      "name": "python"
    }
  },
  "cells": [
    {
      "cell_type": "markdown",
      "metadata": {
        "id": "view-in-github",
        "colab_type": "text"
      },
      "source": [
        "<a href=\"https://colab.research.google.com/github/Lucid-Lifo/Data-Analysis-Using-Python/blob/main/Python_Lab_List_Prog.ipynb\" target=\"_parent\"><img src=\"https://colab.research.google.com/assets/colab-badge.svg\" alt=\"Open In Colab\"/></a>"
      ]
    },
    {
      "cell_type": "code",
      "execution_count": null,
      "metadata": {
        "colab": {
          "base_uri": "https://localhost:8080/"
        },
        "id": "toxkmjG_qYEF",
        "outputId": "cb6e970d-5efc-490d-f3c1-15b49235525a"
      },
      "outputs": [
        {
          "output_type": "stream",
          "name": "stdout",
          "text": [
            "Before swapping: a = 10, b = 20\n",
            "After swapping: a = 20, b = 10\n"
          ]
        }
      ],
      "source": [
        "    a = 10\n",
        "    b = 20\n",
        "    print(f\"Before swapping: a = {a}, b = {b}\")\n",
        "\n",
        "    # Using temporary variable\n",
        "    temp = a\n",
        "    a = b\n",
        "    b = temp\n",
        "\n",
        "    print(f\"After swapping: a = {a}, b = {b}\")"
      ]
    },
    {
      "cell_type": "code",
      "source": [
        "    text = input(\"Enter a string: \")\n",
        "    vowels = \"aeiouAEIOU\"\n",
        "    count = 0\n",
        "\n",
        "    for char in text:\n",
        "        if char in vowels:\n",
        "            count += 1\n",
        "\n",
        "    print(f\"Number of vowels: {count}\")"
      ],
      "metadata": {
        "colab": {
          "base_uri": "https://localhost:8080/"
        },
        "id": "6oChhJt5q3SI",
        "outputId": "16ee0798-0d82-4edf-f8f7-0f316931026a"
      },
      "execution_count": null,
      "outputs": [
        {
          "output_type": "stream",
          "name": "stdout",
          "text": [
            "Enter a string: hello world\n",
            "Number of vowels: 3\n"
          ]
        }
      ]
    },
    {
      "cell_type": "code",
      "source": [
        "text = input(\"Enter a string: \")\n",
        "reversed_text = text[::-1]\n",
        "\n",
        "print(f\"Reversed string: {reversed_text}\")"
      ],
      "metadata": {
        "colab": {
          "base_uri": "https://localhost:8080/"
        },
        "id": "Y3r7lYmaq7XE",
        "outputId": "511937a9-ea4b-49cd-db5e-e01e434d2b59"
      },
      "execution_count": null,
      "outputs": [
        {
          "output_type": "stream",
          "name": "stdout",
          "text": [
            "Enter a string: hello world\n",
            "Reversed string: dlrow olleh\n"
          ]
        }
      ]
    },
    {
      "cell_type": "code",
      "source": [
        "str1 = \"Hello\"\n",
        "str2 = \"World\"\n",
        "result = str1 + \" \" + str2\n",
        "print(f\"Concatenated string: {result}\")\n"
      ],
      "metadata": {
        "colab": {
          "base_uri": "https://localhost:8080/"
        },
        "id": "RoshudUTrbDG",
        "outputId": "f0f57f9d-f4cb-495f-9ae0-918f8907f72e"
      },
      "execution_count": null,
      "outputs": [
        {
          "output_type": "stream",
          "name": "stdout",
          "text": [
            "Concatenated string: Hello World\n"
          ]
        }
      ]
    },
    {
      "cell_type": "code",
      "source": [
        "main_string = input(\"Enter main string: \")\n",
        "substring = input(\"Enter substring to search: \")\n",
        "if substring in main_string:\n",
        "  print(f\"'{substring}' exists in '{main_string}'\")\n",
        "else:\n",
        "  print(f\"'{substring}' does not exist in '{main_string}'\")"
      ],
      "metadata": {
        "colab": {
          "base_uri": "https://localhost:8080/"
        },
        "id": "rg0w7piOsozo",
        "outputId": "d6fdbaec-c82e-408f-d9c5-e116ea5e2a1d"
      },
      "execution_count": null,
      "outputs": [
        {
          "output_type": "stream",
          "name": "stdout",
          "text": [
            "Enter main string: helloworld\n",
            "Enter substring to search: low\n",
            "'low' exists in 'helloworld'\n"
          ]
        }
      ]
    },
    {
      "cell_type": "code",
      "source": [
        "numbers = [5, 3, 8, 1, 9, 2, 7]\n",
        "maximum = numbers[0]\n",
        "minimum = numbers[0]\n",
        "\n",
        "for num in numbers:\n",
        "  if num > maximum:\n",
        "     maximum = num\n",
        "  if num < minimum:\n",
        "     minimum = num\n",
        "\n",
        "print(f\"List: {numbers}\")\n",
        "print(f\"Maximum: {maximum}, Minimum: {minimum}\")"
      ],
      "metadata": {
        "colab": {
          "base_uri": "https://localhost:8080/"
        },
        "id": "qkh03JL9tDtd",
        "outputId": "8bb9d05b-bb9e-4eb6-e97c-72138e5f8f85"
      },
      "execution_count": null,
      "outputs": [
        {
          "output_type": "stream",
          "name": "stdout",
          "text": [
            "List: [5, 3, 8, 1, 9, 2, 7]\n",
            "Maximum: 9, Minimum: 1\n"
          ]
        }
      ]
    },
    {
      "cell_type": "code",
      "source": [
        "    original_list = [1, 2, 2, 3, 4, 4, 5, 6, 6, 7]\n",
        "    unique_list = []\n",
        "\n",
        "    for item in original_list:\n",
        "        if item not in unique_list:\n",
        "            unique_list.append(item)\n",
        "\n",
        "    print(f\"Original list: {original_list}\")\n",
        "    print(f\"List without duplicates: {unique_list}\")"
      ],
      "metadata": {
        "colab": {
          "base_uri": "https://localhost:8080/"
        },
        "id": "31zFFAvUvlqN",
        "outputId": "230e2d6c-66d7-4fb5-9960-7eb023ec91ce"
      },
      "execution_count": null,
      "outputs": [
        {
          "output_type": "stream",
          "name": "stdout",
          "text": [
            "Original list: [1, 2, 2, 3, 4, 4, 5, 6, 6, 7]\n",
            "List without duplicates: [1, 2, 3, 4, 5, 6, 7]\n"
          ]
        }
      ]
    },
    {
      "cell_type": "code",
      "source": [
        "    numbers = (10, 20, 30, 40, 50)\n",
        "    total_sum = sum(numbers)\n",
        "    average = total_sum / len(numbers)\n",
        "\n",
        "    print(f\"Tuple: {numbers}\")\n",
        "    print(f\"Sum: {total_sum}\")\n",
        "    print(f\"Average: {average}\")"
      ],
      "metadata": {
        "colab": {
          "base_uri": "https://localhost:8080/"
        },
        "id": "2vvIl36jv_lH",
        "outputId": "f37fd851-6a7e-401b-b36b-380915136856"
      },
      "execution_count": null,
      "outputs": [
        {
          "output_type": "stream",
          "name": "stdout",
          "text": [
            "Tuple: (10, 20, 30, 40, 50)\n",
            "Sum: 150\n",
            "Average: 30.0\n"
          ]
        }
      ]
    },
    {
      "cell_type": "code",
      "source": [
        "    numbers = [5, 3, 8, 1, 9, 2, 7]\n",
        "    numbers_sorted = sorted((numbers),reverse=True)\n",
        "\n",
        "    if len(numbers_sorted) >= 2:\n",
        "        second_largest = numbers_sorted[1]\n",
        "        print(f\"List: {numbers}\")\n",
        "        print(f\"Second largest: {second_largest}\")\n",
        "    else:\n",
        "        print(\"List doesn't have enough unique elements\")"
      ],
      "metadata": {
        "colab": {
          "base_uri": "https://localhost:8080/"
        },
        "id": "4dyJhqRywAYt",
        "outputId": "b6a6eaa2-220d-482a-eaaa-fc37d00127c4"
      },
      "execution_count": null,
      "outputs": [
        {
          "output_type": "stream",
          "name": "stdout",
          "text": [
            "List: [5, 3, 8, 1, 9, 2, 7]\n",
            "Second largest: 8\n"
          ]
        }
      ]
    },
    {
      "cell_type": "code",
      "source": [
        "def count_occurrences(lst, element):\n",
        "    count = 0\n",
        "    for item in lst:\n",
        "        if item == element:\n",
        "            count += 1\n",
        "    return count\n",
        "\n",
        "numbers = [1, 2, 3, 4, 2, 2, 5, 1]\n",
        "print(numbers)\n",
        "print(f\"the number 2 appear\",count_occurrences(numbers, 2),\"times\")\n",
        "print(f\"the number 1 appear\",count_occurrences(numbers, 1),\"times\")\n",
        "print(f\"the number 6 appear\",count_occurrences(numbers, 6),\"times\")\n"
      ],
      "metadata": {
        "colab": {
          "base_uri": "https://localhost:8080/"
        },
        "id": "O0rFY9N_wsQ3",
        "outputId": "cd473ac9-a6bb-45fa-8070-dbe836d284d9"
      },
      "execution_count": null,
      "outputs": [
        {
          "output_type": "stream",
          "name": "stdout",
          "text": [
            "[1, 2, 3, 4, 2, 2, 5, 1]\n",
            "the number 2 appear 3 times\n",
            "the number 1 appear 2 times\n",
            "the number 6 appear 0 times\n"
          ]
        }
      ]
    },
    {
      "cell_type": "code",
      "source": [
        "    set1 = {1, 2, 3, 4, 5}\n",
        "    set2 = {4, 5, 6, 7, 8}\n",
        "\n",
        "    union = set1 | set2\n",
        "    intersection = set1 & set2\n",
        "\n",
        "    print(f\"Set 1: {set1}\")\n",
        "    print(f\"Set 2: {set2}\")\n",
        "    print(f\"Union: {union}\")\n",
        "    print(f\"Intersection: {intersection}\")"
      ],
      "metadata": {
        "colab": {
          "base_uri": "https://localhost:8080/"
        },
        "id": "lrBtKu2CyAuj",
        "outputId": "e668caf3-41c8-42a1-af1c-0f9d2a61c2b2"
      },
      "execution_count": null,
      "outputs": [
        {
          "output_type": "stream",
          "name": "stdout",
          "text": [
            "Set 1: {1, 2, 3, 4, 5}\n",
            "Set 2: {4, 5, 6, 7, 8}\n",
            "Union: {1, 2, 3, 4, 5, 6, 7, 8}\n",
            "Intersection: {4, 5}\n"
          ]
        }
      ]
    },
    {
      "cell_type": "code",
      "source": [
        "    student_grades = {\n",
        "        \"Alice\": 85,\n",
        "        \"Bob\": 90,\n",
        "        \"Charlie\": 78,\n",
        "        \"Diana\": 92,\n",
        "        \"Eve\": 88\n",
        "    }\n",
        "    print(\"Keys:\", list(student_grades.keys()))\n",
        "    print(\"Values:\", list(student_grades.values()))\n"
      ],
      "metadata": {
        "colab": {
          "base_uri": "https://localhost:8080/"
        },
        "id": "8b0QA1GZy8Oq",
        "outputId": "4b3df398-47b0-4afc-8293-7b92a34a718f"
      },
      "execution_count": null,
      "outputs": [
        {
          "output_type": "stream",
          "name": "stdout",
          "text": [
            "Keys: ['Alice', 'Bob', 'Charlie', 'Diana', 'Eve']\n",
            "Values: [85, 90, 78, 92, 88]\n"
          ]
        }
      ]
    },
    {
      "cell_type": "code",
      "source": [
        "    text = input(\"Enter a string: \")\n",
        "    freq_dict = {}\n",
        "    for char in text:\n",
        "        if char in freq_dict:\n",
        "            freq_dict[char] += 1\n",
        "        else:\n",
        "            freq_dict[char] = 1\n",
        "\n",
        "    print(\"Character frequencies:\")\n",
        "    for char, freq in freq_dict.items():\n",
        "        print(f\"'{char}': {freq}\")\n"
      ],
      "metadata": {
        "colab": {
          "base_uri": "https://localhost:8080/"
        },
        "id": "EUZnFbqqzS4Q",
        "outputId": "8c21878a-7258-4826-8117-07667cc7fb2b"
      },
      "execution_count": null,
      "outputs": [
        {
          "output_type": "stream",
          "name": "stdout",
          "text": [
            "Enter a string: hello world\n",
            "Character frequencies:\n",
            "'h': 1\n",
            "'e': 1\n",
            "'l': 3\n",
            "'o': 2\n",
            "' ': 1\n",
            "'w': 1\n",
            "'r': 1\n",
            "'d': 1\n"
          ]
        }
      ]
    },
    {
      "cell_type": "code",
      "source": [
        "for n in range(2,51):\n",
        "  flag=False\n",
        "  for i in range(2,int(n**0.5)+1):\n",
        "    if(n%i==0):\n",
        "      flag=True\n",
        "      break\n",
        "  if flag==False:\n",
        "    print(n)"
      ],
      "metadata": {
        "colab": {
          "base_uri": "https://localhost:8080/"
        },
        "id": "HUL3sfPu0AVF",
        "outputId": "05aab67e-30fc-444d-9928-2d32f1e174f3"
      },
      "execution_count": null,
      "outputs": [
        {
          "output_type": "stream",
          "name": "stdout",
          "text": [
            "2\n",
            "3\n",
            "5\n",
            "7\n",
            "11\n",
            "13\n",
            "17\n",
            "19\n",
            "23\n",
            "29\n",
            "31\n",
            "37\n",
            "41\n",
            "43\n",
            "47\n"
          ]
        }
      ]
    },
    {
      "cell_type": "code",
      "source": [
        "    num = int(input(\"Enter a number: \"))\n",
        "    print(f\"Multiplication table of {num}:\")\n",
        "\n",
        "    for i in range(1, 11):\n",
        "        result = num * i\n",
        "        print(f\"{num} × {i} = {result}\")\n"
      ],
      "metadata": {
        "colab": {
          "base_uri": "https://localhost:8080/"
        },
        "id": "1EKnugkc29hk",
        "outputId": "ef43f483-e3ee-4071-c737-07ff36eb3b61"
      },
      "execution_count": null,
      "outputs": [
        {
          "output_type": "stream",
          "name": "stdout",
          "text": [
            "Enter a number: 8\n",
            "Multiplication table of 8:\n",
            "8 × 1 = 8\n",
            "8 × 2 = 16\n",
            "8 × 3 = 24\n",
            "8 × 4 = 32\n",
            "8 × 5 = 40\n",
            "8 × 6 = 48\n",
            "8 × 7 = 56\n",
            "8 × 8 = 64\n",
            "8 × 9 = 72\n",
            "8 × 10 = 80\n"
          ]
        }
      ]
    },
    {
      "cell_type": "code",
      "source": [],
      "metadata": {
        "id": "11gZUaMT4Jqo"
      },
      "execution_count": null,
      "outputs": []
    }
  ]
}