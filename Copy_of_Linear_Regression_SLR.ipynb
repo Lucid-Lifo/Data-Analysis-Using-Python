{
  "nbformat": 4,
  "nbformat_minor": 0,
  "metadata": {
    "colab": {
      "provenance": [],
      "include_colab_link": true
    },
    "kernelspec": {
      "name": "python3",
      "display_name": "Python 3"
    },
    "language_info": {
      "name": "python"
    }
  },
  "cells": [
    {
      "cell_type": "markdown",
      "metadata": {
        "id": "view-in-github",
        "colab_type": "text"
      },
      "source": [
        "<a href=\"https://colab.research.google.com/github/Lucid-Lifo/Data-Analysis-Using-Python/blob/main/Copy_of_Linear_Regression_SLR.ipynb\" target=\"_parent\"><img src=\"https://colab.research.google.com/assets/colab-badge.svg\" alt=\"Open In Colab\"/></a>"
      ]
    },
    {
      "cell_type": "markdown",
      "source": [
        "## Simple Linear Regression\n",
        "\n",
        "\n",
        "* Simple Linear Regression aims to describe how one variable i.e the dependent variable changes in relation with reference to the independent variable.\n",
        "* For example consider a scenario where a company wants to predict sales based on advertising expenditure.\n",
        "* By using simple linear regression the company can determine if an increase in advertising leads to higher sales or not.\n",
        "* The relationship between the dependent and independent variables is represented by the simple linear equation:\n",
        "            `**y=mx+b**`\n",
        "\n",
        "* Here:\n",
        "  * y is the predicted value (dependent variable).\n",
        "  * m is the slope of the line\n",
        "  * x is the independent variable.\n",
        "  * b is the y-intercept (the value of y when x is 0).\n",
        "\n",
        "* In this equation m signifies the slope of the line indicating how much y changes for a one-unit increase in x, a positive m suggests a direct relationship while a negative m indicates an inverse relationship."
      ],
      "metadata": {
        "id": "1SrJ6OMPcG4q"
      }
    },
    {
      "cell_type": "markdown",
      "source": [
        "## Implementation"
      ],
      "metadata": {
        "id": "Evp1wtMXcYdA"
      }
    },
    {
      "cell_type": "code",
      "source": [
        "# Import necessary libraries\n",
        "import numpy as np\n",
        "import pandas as pd\n",
        "import matplotlib.pyplot as plt\n",
        "from sklearn.model_selection import train_test_split\n",
        "from sklearn.linear_model import LinearRegression\n",
        "from sklearn.metrics import mean_squared_error, r2_score"
      ],
      "metadata": {
        "id": "P122agwocXmG"
      },
      "execution_count": null,
      "outputs": []
    },
    {
      "cell_type": "code",
      "source": [
        "column_names = [\n",
        "    'CRIM','ZN','INDUS','CHAS','NOX','RM','AGE','DIS',\n",
        "    'RAD','TAX','PTRATIO','B','LSTAT','MEDV'\n",
        "]\n",
        "\n",
        "# Reload with column names\n",
        "df = pd.read_csv(\"/content/housing.csv\", delim_whitespace=True, names=column_names)\n",
        "\n",
        "# Separate features and target\n",
        "X = df.drop(\"MEDV\", axis=1)\n",
        "df['PRICE'] = df[\"MEDV\"]\n",
        "\n",
        "print(df.head())"
      ],
      "metadata": {
        "id": "OI3hdQuKkAsH"
      },
      "execution_count": null,
      "outputs": []
    },
    {
      "cell_type": "code",
      "source": [
        "print(df.isnull().sum())"
      ],
      "metadata": {
        "id": "LkOCMBZTdTIo"
      },
      "execution_count": null,
      "outputs": []
    },
    {
      "cell_type": "code",
      "source": [
        "# Features and target\n",
        "X = df[['RM']]\n",
        "y = df['PRICE']\n",
        "\n",
        "# Train/test split (80% train, 20% test)\n",
        "X_train, X_test, y_train, y_test = train_test_split(X, y, test_size=0.2, random_state=42\n",
        ")\n",
        "\n",
        "print(f\"Training set size: {X_train.shape[0]}\")\n",
        "print(f\"Testing set size: {X_test.shape[0]}\")"
      ],
      "metadata": {
        "id": "KQ_WMXiPdT5u"
      },
      "execution_count": null,
      "outputs": []
    },
    {
      "cell_type": "code",
      "source": [
        "# Create a Linear Regression model\n",
        "model = LinearRegression()\n",
        "\n",
        "# Train the model on the training data\n",
        "model.fit(X_train, y_train)\n",
        "\n",
        "# Print the intercept and coefficient\n",
        "print(f\"Intercept: {model.intercept_}\")\n",
        "print(f\"Coefficient: {model.coef_}\")"
      ],
      "metadata": {
        "id": "Lbc__qereT8g"
      },
      "execution_count": null,
      "outputs": []
    },
    {
      "cell_type": "code",
      "source": [
        "# Predict house prices for the test set\n",
        "y_pred = model.predict(X_test)\n",
        "\n",
        "# Display the first few predictions alongside the actual values\n",
        "predictions = pd.DataFrame({'Actual': y_test, 'Predicted': y_pred})\n",
        "print(predictions.head())"
      ],
      "metadata": {
        "id": "4fCnSefbeUD3"
      },
      "execution_count": null,
      "outputs": []
    },
    {
      "cell_type": "code",
      "source": [
        "# Plot the actual data points\n",
        "plt.scatter(X_test, y_test, color='blue', label='Actual')\n",
        "\n",
        "# Plot the regression line\n",
        "plt.plot(X_test, y_pred, color='red', label='Regression Line')\n",
        "\n",
        "# Add labels and title\n",
        "plt.xlabel('Number of Rooms (RM)')\n",
        "plt.ylabel('House Price ($1000s)')\n",
        "plt.title('Simple Linear Regression: Number of Rooms vs. House Price')\n",
        "plt.legend()\n",
        "plt.show()"
      ],
      "metadata": {
        "id": "EJ9POnkSlwY-"
      },
      "execution_count": null,
      "outputs": []
    },
    {
      "cell_type": "code",
      "source": [
        "# Calculate Mean Squared Error (MSE)\n",
        "mse = mean_squared_error(y_test, y_pred)\n",
        "print(f\"Mean Squared Error: {mse}\")\n",
        "\n",
        "# Calculate R-squared score\n",
        "r2 = r2_score(y_test, y_pred)\n",
        "print(f\"R-squared score: {r2}\")"
      ],
      "metadata": {
        "id": "WWlmDeBueXjX"
      },
      "execution_count": null,
      "outputs": []
    }
  ]
}